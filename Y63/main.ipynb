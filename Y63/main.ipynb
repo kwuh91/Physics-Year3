{
 "cells": [
  {
   "cell_type": "code",
   "execution_count": 111,
   "metadata": {},
   "outputs": [],
   "source": [
    "import numpy as np"
   ]
  },
  {
   "cell_type": "code",
   "execution_count": 112,
   "metadata": {},
   "outputs": [],
   "source": [
    "I = np.arange(1, 15 + 1, 1)\n",
    "BG = np.array([6, 10, 7, 8, 7, 8, 6, 9, 9, 5, 9, 8, 5, 10, 6])\n",
    "P0 = np.array([54, 51, 51, 63, 57, 55, 66, 49, 67, 59, 52, 43, 56, 57, 56])\n",
    "P1 = np.array([9, 13, 10, 7, 10, 9, 9, 8, 13, 8, 10, 8, 9, 13, 7])\n",
    "P2 = np.array([20, 23, 17, 22, 21, 20, 18, 17, 24, 16, 20, 18, 19, 14, 23])\n",
    "P3 = np.array([22, 18, 19, 26, 23, 24, 20, 20, 23, 24, 22, 25, 24, 26, 24])\n",
    "\n",
    "arrays = [I, BG, P0, P1, P2, P3]\n"
   ]
  },
  {
   "cell_type": "code",
   "execution_count": 113,
   "metadata": {},
   "outputs": [
    {
     "name": "stdout",
     "output_type": "stream",
     "text": [
      "226    1672    286    584    680    \n",
      "\n",
      "1446\n",
      "60\n",
      "358\n",
      "454\n"
     ]
    }
   ],
   "source": [
    "NBG = np.sum(BG) * 2\n",
    "N0  = np.sum(P0) * 2 \n",
    "N1  = np.sum(P1) * 2\n",
    "N2  = np.sum(P2) * 2\n",
    "N3  = np.sum(P3) * 2\n",
    "\n",
    "N = [NBG, N0, N1, N2, N3]\n",
    "\n",
    "for n in N:\n",
    "    print(n, end='    ')\n",
    "\n",
    "print('\\n')\n",
    "\n",
    "print(N0 - NBG)\n",
    "print(N1 - NBG)\n",
    "print(N2 - NBG)\n",
    "print(N3 - NBG)"
   ]
  },
  {
   "cell_type": "code",
   "execution_count": 114,
   "metadata": {},
   "outputs": [
    {
     "name": "stdout",
     "output_type": "stream",
     "text": [
      "0.04\n",
      "25\n",
      "2.367866666666667e+19\n",
      "1.6814814814814816\n",
      "42.03703703703704\n",
      "3.9035377268722464e+17\n",
      "30027213183.632668\n"
     ]
    }
   ],
   "source": [
    "NA = 6.02e23\n",
    "M = 75\n",
    "delta = 1.18e-4\n",
    "m = 25\n",
    "f = 0.04\n",
    "t = 270\n",
    "T_REAL = 1.3e9\n",
    "\n",
    "N40 = delta * NA * m/M\n",
    "n_p = (N3 - NBG)/t\n",
    "A = n_p/f\n",
    "T = 0.693 * N40 / A\n",
    "\n",
    "epsilon = (T-T_REAL)/T_REAL * 100\n",
    "\n",
    "print(f)\n",
    "print(m)\n",
    "print(N40)\n",
    "print(n_p)\n",
    "print(A)\n",
    "print(T)\n",
    "print(epsilon)"
   ]
  }
 ],
 "metadata": {
  "kernelspec": {
   "display_name": "Python 3",
   "language": "python",
   "name": "python3"
  },
  "language_info": {
   "codemirror_mode": {
    "name": "ipython",
    "version": 3
   },
   "file_extension": ".py",
   "mimetype": "text/x-python",
   "name": "python",
   "nbconvert_exporter": "python",
   "pygments_lexer": "ipython3",
   "version": "3.11.9"
  }
 },
 "nbformat": 4,
 "nbformat_minor": 2
}
